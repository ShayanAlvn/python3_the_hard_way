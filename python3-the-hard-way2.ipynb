{
 "cells": [
  {
   "cell_type": "code",
   "execution_count": 2,
   "metadata": {},
   "outputs": [
    {
     "name": "stdout",
     "output_type": "stream",
     "text": [
      "\tyou can tab your code by doing this\n",
      "please go to the next line\n",
      "thanks :)\n",
      "I want to use \\ in my writting\n",
      "\n",
      "i want to create a list about my variabels:\n",
      "\t* tab_test\n",
      "\t* next_line\n",
      "\t* new_test\n",
      "\n"
     ]
    }
   ],
   "source": [
    "#ex10\n",
    "tab_test = \"\\tyou can tab your code by doing this\"\n",
    "#by using \"\\t\" you can tab your code\n",
    "next_line = \"please go to the next line\\nthanks :)\"\n",
    "#by using one \\n you can go to the next line \n",
    "new_test = \"I want to use \\\\ in my writting\"\n",
    "#if you want to have \\ in your sentence you should use \\\\\n",
    "my_list = \"\"\"\n",
    "i want to create a list about my variabels:\n",
    "\\t* tab_test\n",
    "\\t* next_line\n",
    "\\t* new_test\n",
    "\"\"\"\n",
    "print(tab_test)\n",
    "print(next_line)\n",
    "print(new_test)\n",
    "print(my_list)"
   ]
  },
  {
   "cell_type": "code",
   "execution_count": 4,
   "metadata": {},
   "outputs": [
    {
     "name": "stdout",
     "output_type": "stream",
     "text": [
      "what is your favorite number ? \n",
      "10\n",
      "what was your favorite number ? 10\n"
     ]
    }
   ],
   "source": [
    "#ex11 && ex12\n",
    "print(\"what is your favorite number ? \")\n",
    "number = input()\n",
    "#if you want to give a number from user you should user \"input()\"\n",
    "number2 = input(\"what was your favorite number ? \")"
   ]
  },
  {
   "cell_type": "code",
   "execution_count": null,
   "metadata": {},
   "outputs": [],
   "source": [
    "#ex"
   ]
  }
 ],
 "metadata": {
  "kernelspec": {
   "display_name": "Python 3",
   "language": "python",
   "name": "python3"
  },
  "language_info": {
   "codemirror_mode": {
    "name": "ipython",
    "version": 3
   },
   "file_extension": ".py",
   "mimetype": "text/x-python",
   "name": "python",
   "nbconvert_exporter": "python",
   "pygments_lexer": "ipython3",
   "version": "3.8.5"
  }
 },
 "nbformat": 4,
 "nbformat_minor": 4
}
