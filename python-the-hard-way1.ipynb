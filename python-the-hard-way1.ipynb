{
 "cells": [
  {
   "cell_type": "code",
   "execution_count": 18,
   "metadata": {},
   "outputs": [],
   "source": [
    "#this is the \"python3_the_hard_way\" codes "
   ]
  },
  {
   "cell_type": "code",
   "execution_count": 21,
   "metadata": {},
   "outputs": [
    {
     "name": "stdout",
     "output_type": "stream",
     "text": [
      "there are 10 types of people \n",
      "Was the joke funny? yes\n"
     ]
    }
   ],
   "source": [
    "#ex6\n",
    "test = \"TEN\"#you can write here numbers and stings\n",
    "x = f\"there are {test} types of people \"\n",
    "print(x)\n",
    "answer = \"yes\"\n",
    "joke_evaluation = \"Was the joke funny? {}\"\n",
    "print(joke_evaluation.format(answer))"
   ]
  },
  {
   "cell_type": "code",
   "execution_count": 20,
   "metadata": {},
   "outputs": [
    {
     "name": "stdout",
     "output_type": "stream",
     "text": [
      "1 2 3 4\n",
      "one two three four\n",
      "1 two 3 four\n"
     ]
    }
   ],
   "source": [
    "#ex8\n",
    "formatter = \"{} {} {} {}\"#you can as many as {} you want and then \n",
    "#you will be able to add numbers and stings or the combination in the output\n",
    "print(formatter.format( 1 , 2 , 3 , 4))\n",
    "print(formatter.format( \"one\" , \"two\" , \"three\" , \"four\"))\n",
    "print(formatter.format( 1 , \"two\" , 3 , \"four\"))"
   ]
  },
  {
   "cell_type": "code",
   "execution_count": null,
   "metadata": {},
   "outputs": [],
   "source": []
  }
 ],
 "metadata": {
  "kernelspec": {
   "display_name": "Python 3",
   "language": "python",
   "name": "python3"
  },
  "language_info": {
   "codemirror_mode": {
    "name": "ipython",
    "version": 3
   },
   "file_extension": ".py",
   "mimetype": "text/x-python",
   "name": "python",
   "nbconvert_exporter": "python",
   "pygments_lexer": "ipython3",
   "version": "3.8.5"
  }
 },
 "nbformat": 4,
 "nbformat_minor": 4
}
